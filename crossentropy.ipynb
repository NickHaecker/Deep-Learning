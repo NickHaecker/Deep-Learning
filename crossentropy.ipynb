{
  "nbformat": 4,
  "nbformat_minor": 0,
  "metadata": {
    "colab": {
      "provenance": []
    },
    "kernelspec": {
      "name": "python3",
      "display_name": "Python 3"
    },
    "language_info": {
      "name": "python"
    }
  },
  "cells": [
    {
      "cell_type": "markdown",
      "metadata": {
        "id": "OPr3YYhQ1Okl"
      },
      "source": [
        "Examples from https://www.tensorflow.org/api_docs/python/tf/keras/losses/BinaryCrossentropy"
      ]
    },
    {
      "cell_type": "code",
      "metadata": {
        "colab": {
          "base_uri": "https://localhost:8080/"
        },
        "id": "vjoDEdWhcqhX",
        "outputId": "50c8c6e2-701a-43aa-c0ad-d6d42506397f"
      },
      "source": [
        "import numpy as np\n",
        "import tensorflow as tf\n",
        "#\n",
        "# Example 1: (batch_size = 1, number of samples = 4)\n",
        "y_true = [0, 1, 0, 0]\n",
        "y_pred = [-18.6, 0.51, 2.94, -12.8] #LOGITS!!!\n",
        "bce = tf.keras.losses.BinaryCrossentropy(from_logits=True)\n",
        "bce(y_true, y_pred).numpy()"
      ],
      "execution_count": null,
      "outputs": [
        {
          "output_type": "execute_result",
          "data": {
            "text/plain": [
              "0.865458"
            ]
          },
          "metadata": {},
          "execution_count": 1
        }
      ]
    },
    {
      "cell_type": "markdown",
      "metadata": {
        "id": "b7F5s6Ll0WR9"
      },
      "source": [
        "Let's compute the loss partial manually"
      ]
    },
    {
      "cell_type": "code",
      "metadata": {
        "colab": {
          "base_uri": "https://localhost:8080/"
        },
        "id": "Ixl-_kZ2t6VG",
        "outputId": "095eaa15-19a2-4e56-dff2-60b7478d30f0"
      },
      "source": [
        "#y_pred = [-18.6, 0.51, 2.94, -12.8]\n",
        "#turn the logits into probabilities\n",
        "prob=[1/(1+np.exp(18.6)),1/(1+np.exp(-.51)),1/(1+np.exp(-2.94)),1/(1+np.exp(12.8))]\n",
        "print('prob', prob)\n",
        "bce = tf.keras.losses.BinaryCrossentropy()#default parameter from_logits = false\n",
        "bce(y_true, prob).numpy()"
      ],
      "execution_count": null,
      "outputs": [
        {
          "output_type": "stream",
          "name": "stdout",
          "text": [
            "prob [8.358390031511923e-09, 0.6248064744684293, 0.9497887268097336, 2.7607649501930464e-06]\n"
          ]
        },
        {
          "output_type": "execute_result",
          "data": {
            "text/plain": [
              "0.8654573559761047"
            ]
          },
          "metadata": {},
          "execution_count": 2
        }
      ]
    },
    {
      "cell_type": "code",
      "metadata": {
        "id": "HMWfKFskzznv"
      },
      "source": [
        "y_true = [0, 1, 0, 0]\n",
        "y_pred = [0.6, 0.3, 0.2, 0.8]"
      ],
      "execution_count": null,
      "outputs": []
    },
    {
      "cell_type": "markdown",
      "source": [
        "### Given True labels and estimated ones compute frist manually the Crossentropy and then with TF\n",
        "\n"
      ],
      "metadata": {
        "id": "JE18oP94BUeV"
      }
    },
    {
      "cell_type": "code",
      "metadata": {
        "colab": {
          "base_uri": "https://localhost:8080/"
        },
        "id": "mjMl57mZ0Nsk",
        "outputId": "8e299f1f-2596-4b2a-b6c9-f574227580a3"
      },
      "source": [
        "ce = -(np.log(1-0.6)+np.log(0.3)+np.log(1-.2)+np.log(1-0.8))/4\n",
        "print('manual computed cross entropy loss: ',ce)\n",
        "bce = tf.keras.losses.BinaryCrossentropy()\n",
        "print('tensorflow computed:',bce(y_true, y_pred).numpy())\n"
      ],
      "execution_count": null,
      "outputs": [
        {
          "output_type": "stream",
          "name": "stdout",
          "text": [
            "manual computed cross entropy loss:  0.9882112499871003\n",
            "tensorflow computed: 0.988211\n"
          ]
        }
      ]
    },
    {
      "cell_type": "markdown",
      "metadata": {
        "id": "NulXviL_4Y5b"
      },
      "source": [
        "### **How** do we vectorize the code? Recall the formula for cross entropy"
      ]
    },
    {
      "cell_type": "code",
      "metadata": {
        "colab": {
          "base_uri": "https://localhost:8080/"
        },
        "id": "YSWJTNFT4fCg",
        "outputId": "d0fef288-e5d6-4513-d0c2-4d65440dfcbb"
      },
      "source": [
        "#+\n",
        "y_true = np.array([0.0, 1.0, 0.0, 0.0])\n",
        "t = 1-y_true\n",
        "print(t)\n",
        "y_pred = [0.6, 0.3, 0.2, 0.8]\n",
        "p = 1-np.array(y_pred)\n",
        "print(p)\n",
        "-(y_true@np.log(y_pred)+t@ np.log(p))/4"
      ],
      "execution_count": null,
      "outputs": [
        {
          "output_type": "stream",
          "name": "stdout",
          "text": [
            "[1. 0. 1. 1.]\n",
            "[0.4 0.7 0.8 0.2]\n"
          ]
        },
        {
          "output_type": "execute_result",
          "data": {
            "text/plain": [
              "0.9882112499871003"
            ]
          },
          "metadata": {},
          "execution_count": 7
        }
      ]
    }
  ]
}