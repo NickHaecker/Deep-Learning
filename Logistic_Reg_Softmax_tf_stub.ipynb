{
  "nbformat": 4,
  "nbformat_minor": 0,
  "metadata": {
    "colab": {
      "provenance": [],
      "collapsed_sections": []
    },
    "kernelspec": {
      "name": "python3",
      "display_name": "Python 3"
    }
  },
  "cells": [
    {
      "cell_type": "markdown",
      "metadata": {
        "id": "7lL8UDAvPQaB"
      },
      "source": [
        "# In this notebook you will implement the **Logistic Regression** by means of **Softmax**."
      ]
    },
    {
      "cell_type": "code",
      "metadata": {
        "id": "xI0dT0-WEYuh"
      },
      "source": [
        "import tensorflow as tf\n",
        "import tensorflow_datasets as tfds"
      ],
      "execution_count": null,
      "outputs": []
    },
    {
      "cell_type": "code",
      "metadata": {
        "id": "Tqiqzu3dFXKj",
        "colab": {
          "base_uri": "https://localhost:8080/"
        },
        "outputId": "beec8b97-7db8-448c-a597-46e21bb5187b"
      },
      "source": [
        "print(tf.__version__)\n"
      ],
      "execution_count": null,
      "outputs": [
        {
          "output_type": "stream",
          "text": [
            "2.4.1\n"
          ],
          "name": "stdout"
        }
      ]
    },
    {
      "cell_type": "code",
      "metadata": {
        "id": "ZSjE8NINEvVO"
      },
      "source": [
        "import numpy as np "
      ],
      "execution_count": null,
      "outputs": []
    },
    {
      "cell_type": "code",
      "metadata": {
        "id": "UrkpG7BYI8MT",
        "colab": {
          "base_uri": "https://localhost:8080/",
          "height": 51
        },
        "outputId": "2f6e0224-ffb7-446a-da0f-4b6a8cdc5055"
      },
      "source": [
        "mnist = tf.keras.datasets.mnist\n",
        "\n",
        "(x_train, y_train), (x_test, y_test) = mnist.load_data()\n",
        "\n",
        "x_train, x_test = x_train / 255.0, x_test / 255.0\n"
      ],
      "execution_count": null,
      "outputs": [
        {
          "output_type": "stream",
          "text": [
            "Downloading data from https://storage.googleapis.com/tensorflow/tf-keras-datasets/mnist.npz\n",
            "11493376/11490434 [==============================] - 0s 0us/step\n"
          ],
          "name": "stdout"
        }
      ]
    },
    {
      "cell_type": "code",
      "metadata": {
        "id": "CHEiLlEnNhIm",
        "colab": {
          "base_uri": "https://localhost:8080/",
          "height": 34
        },
        "outputId": "0e95a654-401b-4043-ffe4-a89f7af41c51"
      },
      "source": [
        "print (x_train.shape, x_train.dtype)"
      ],
      "execution_count": null,
      "outputs": [
        {
          "output_type": "stream",
          "text": [
            "(60000, 28, 28) float64\n"
          ],
          "name": "stdout"
        }
      ]
    },
    {
      "cell_type": "code",
      "metadata": {
        "id": "Cb5Hr9aENMTy",
        "colab": {
          "base_uri": "https://localhost:8080/",
          "height": 34
        },
        "outputId": "cc8068dd-ee19-4334-9c83-aaca26a08f94"
      },
      "source": [
        "x_train = x_train.reshape([60000,784])\n",
        "x_test = x_test.reshape([10000,784])\n",
        "print(x_train.shape)\n"
      ],
      "execution_count": null,
      "outputs": [
        {
          "output_type": "stream",
          "text": [
            "(60000, 784)\n"
          ],
          "name": "stdout"
        }
      ]
    },
    {
      "cell_type": "code",
      "metadata": {
        "id": "VchHR4WRwYLT"
      },
      "source": [
        "logical_mask_0 = y_train == 0\n",
        "logical_mask_1 = y_train == 1"
      ],
      "execution_count": null,
      "outputs": []
    },
    {
      "cell_type": "code",
      "metadata": {
        "id": "9fcSdmzcxUKv"
      },
      "source": [
        "zeros = tf.boolean_mask(x_train, logical_mask_0)\n",
        "labels_0 = tf.boolean_mask(y_train, logical_mask_0)\n",
        "ones = tf.boolean_mask(x_train, logical_mask_1)\n",
        "labels_1 = tf.boolean_mask(y_train, logical_mask_1)\n",
        "all0_1 = tf.cast(tf.concat([zeros, ones], 0), tf.float32)\n",
        "all0_1_labels = tf.cast(tf.concat([labels_0, labels_1], 0), tf.int32)"
      ],
      "execution_count": null,
      "outputs": []
    },
    {
      "cell_type": "code",
      "metadata": {
        "id": "gzz7vocjXDRW"
      },
      "source": [
        "dataset = tf.data.Dataset.from_tensor_slices((all0_1,all0_1_labels))\n",
        "# Shuffle, repeat, and batch the examples.\n",
        "dataset = dataset.shuffle(12000).repeat(10).batch(10)\n"
      ],
      "execution_count": null,
      "outputs": []
    },
    {
      "cell_type": "markdown",
      "metadata": {
        "id": "pd6gwY7xydcm"
      },
      "source": [
        "Define the network model using tf.keras.models.Sequential\n",
        "\n",
        "Think how many output neurons you need (see also lecture slides)"
      ]
    },
    {
      "cell_type": "code",
      "metadata": {
        "id": "2FxhTxo3yhEH"
      },
      "source": [
        "\n",
        "model = tf.keras.models.Sequential\n"
      ],
      "execution_count": null,
      "outputs": []
    },
    {
      "cell_type": "markdown",
      "metadata": {
        "id": "cpr8yZVO6xsB"
      },
      "source": [
        "Define your optimizer, loss, metrics. Your loss should match the softmax activation in the output. Remember the true values are not one-hot encoded but sparse. \n",
        "\n",
        "See model.compile"
      ]
    },
    {
      "cell_type": "code",
      "metadata": {
        "id": "CVJHVDzc62BE"
      },
      "source": [
        "\n",
        "model.compile(...)"
      ],
      "execution_count": null,
      "outputs": []
    },
    {
      "cell_type": "markdown",
      "metadata": {
        "id": "W--SO4QKzpxJ"
      },
      "source": [
        "Fit your model"
      ]
    },
    {
      "cell_type": "code",
      "metadata": {
        "id": "1EM8qCqizwEe"
      },
      "source": [
        "model.fit(...)"
      ],
      "execution_count": null,
      "outputs": []
    },
    {
      "cell_type": "markdown",
      "metadata": {
        "id": "Lwy44sErwQPl"
      },
      "source": [
        "Apply your model to the test data.\n",
        "\n",
        "First extract the zeros and ones out of the whole test dataset"
      ]
    },
    {
      "cell_type": "code",
      "metadata": {
        "id": "-prp7AicwTWK"
      },
      "source": [
        "logical_mask_0 = y_test == 0\n",
        "logical_mask_1 = y_test == 1\n",
        "zeros = tf.boolean_mask(x_test, logical_mask_0)\n",
        "labels_0 = tf.boolean_mask(y_test, logical_mask_0)\n",
        "ones = tf.boolean_mask(x_test, logical_mask_1)\n",
        "labels_1 = tf.boolean_mask(y_test, logical_mask_1)\n",
        "all0_1 = tf.cast(tf.concat([zeros, ones], 0), tf.float32)\n",
        "all0_1_labels = tf.cast(tf.concat([labels_0, labels_1], 0), tf.int32)\n",
        "\n",
        "dataset_test = tf.data.Dataset.from_tensor_slices((all0_1,all0_1_labels))\n",
        "# Shuffle, repeat, and batch the examples.\n",
        "dataset_test = dataset_test.batch(1)\n",
        "print(dataset_test)\n",
        "\n",
        "#evaluate, print the accuracy\n",
        "#your code here\n",
        "model.evaluate(...)"
      ],
      "execution_count": null,
      "outputs": []
    }
  ]
}